{
  "nbformat": 4,
  "nbformat_minor": 0,
  "metadata": {
    "colab": {
      "name": "azm_GlobalAIHub-PythonBootcamp-Project1.ipynb",
      "provenance": [],
      "collapsed_sections": [],
      "include_colab_link": true
    },
    "kernelspec": {
      "name": "python3",
      "display_name": "Python 3"
    },
    "language_info": {
      "name": "python"
    }
  },
  "cells": [
    {
      "cell_type": "markdown",
      "metadata": {
        "id": "view-in-github",
        "colab_type": "text"
      },
      "source": [
        "<a href=\"https://colab.research.google.com/github/azemsah/nothesap/blob/main/azm_GlobalAIHub_PythonBootcamp_Project1.ipynb\" target=\"_parent\"><img src=\"https://colab.research.google.com/assets/colab-badge.svg\" alt=\"Open In Colab\"/></a>"
      ]
    },
    {
      "cell_type": "code",
      "execution_count": 1,
      "metadata": {
        "id": "atCSQI-CeE8l"
      },
      "outputs": [],
      "source": [
        "import pandas as pd\n",
        "import numpy as np\n",
        "\n",
        "ogr_list = {}\n",
        "ders_durum = [\"KALDI\", \"ŞART\", \"GEÇTİ\"]\n",
        "ogr_ders = {}\n",
        "hrf_not = {}\n",
        "\n",
        "def ogr_bilgi():\n",
        "    ogr_ad = str(input(\"\\nÖğrenci adı : \"))\n",
        "    ogr_soyad = str(input(\"Öğrenci soyadı: \"))\n",
        "\n",
        "    ogr_ad_soyad = f\"{ogr_ad} \".capitalize() + f\"{ogr_soyad}\".upper()\n",
        "\n",
        "    ogr_ders = str(input(\"Ders Adı: \"))\n",
        "    ogr_no = int(input(\"Öğrenci Numarası: \"))\n",
        "    ogr_ders_not = int(input(\"Sınav notunu giriniz: \"))\n",
        "  \n",
        "    if ogr_ders_not > 100 or ogr_ders_not < 0:\n",
        "      ogr_ders_not = int(input(\"Öğrenci notu 0 ile 100 arasında olmalıdır!: \"))\n",
        "    \n",
        "    if ogr_ders_not >0 and ogr_ders_not<= 40:\n",
        "      hrf_not= (\"FF\")\n",
        "    if ogr_ders_not >41 and ogr_ders_not<=59:\n",
        "      hrf_not= (\"DC\")\n",
        "    if ogr_ders_not >60 and ogr_ders_not<=69:\n",
        "      hrf_not= (\"CC\")\n",
        "    if ogr_ders_not >70 and ogr_ders_not<=74:\n",
        "      hrf_not= (\"CB\")\n",
        "    if ogr_ders_not >75 and ogr_ders_not<=79:\n",
        "      hrf_not= (\"BB\")\n",
        "    if ogr_ders_not >80 and ogr_ders_not<=89:\n",
        "      hrf_not= (\"BA\")\n",
        "    if ogr_ders_not >90 and ogr_ders_not<=100:\n",
        "      hrf_not= (\"AA\")\n",
        "    else:\n",
        "      pass\n",
        "      \n",
        "      if ogr_ders_not >= 60:\n",
        "        ogr_durum = ders_durum[2]\n",
        "      elif ogr_ders_not > 41 and ogr_ders_not <= 59:\n",
        "        ogr_durum = ders_durum[1]\n",
        "      else:\n",
        "        ogr_durum = ders_durum[0]\n",
        "\n",
        "      ogr_list[ogr_ad_soyad] = [ogr_no, ogr_ders, ogr_ders_not, hrf_not, ogr_durum]\n",
        "\n",
        "def dataframe(data): \n",
        "  global df_ogr_list\n",
        "  df_ogr_list = pd.DataFrame.from_dict(data, orient ='index')\n",
        "  df_ogr_list.columns = ['Okul No','Ders','Ders Notu','Harf Notu','Durum']\n",
        "  df_ogr_list.info()\n",
        "  return df_ogr_list\n",
        "\n",
        "def excel(data):\n",
        "  data.to_excel(\"StudentGradeList.xlsx\")"
      ]
    },
    {
      "cell_type": "code",
      "source": [
        "ogr_bilgi()"
      ],
      "metadata": {
        "id": "fc5di6LCck5n",
        "colab": {
          "base_uri": "https://localhost:8080/",
          "height": 392
        },
        "outputId": "09e61454-b166-46da-bcfa-fc635704ea00"
      },
      "execution_count": 2,
      "outputs": [
        {
          "name": "stdout",
          "output_type": "stream",
          "text": [
            "\n",
            "Öğrenci adı : azem\n",
            "Öğrenci soyadı: arslan\n",
            "Ders Adı: mat\n",
            "Öğrenci Numarası: 1\n",
            "Sınav notunu giriniz: 60\n"
          ]
        },
        {
          "output_type": "error",
          "ename": "UnboundLocalError",
          "evalue": "ignored",
          "traceback": [
            "\u001b[0;31m---------------------------------------------------------------------------\u001b[0m",
            "\u001b[0;31mUnboundLocalError\u001b[0m                         Traceback (most recent call last)",
            "\u001b[0;32m<ipython-input-2-5c316fcb8c9e>\u001b[0m in \u001b[0;36m<module>\u001b[0;34m()\u001b[0m\n\u001b[0;32m----> 1\u001b[0;31m \u001b[0mogr_bilgi\u001b[0m\u001b[0;34m(\u001b[0m\u001b[0;34m)\u001b[0m\u001b[0;34m\u001b[0m\u001b[0;34m\u001b[0m\u001b[0m\n\u001b[0m",
            "\u001b[0;32m<ipython-input-1-fa1f39aa93bc>\u001b[0m in \u001b[0;36mogr_bilgi\u001b[0;34m()\u001b[0m\n\u001b[1;32m     44\u001b[0m         \u001b[0mogr_durum\u001b[0m \u001b[0;34m=\u001b[0m \u001b[0mders_durum\u001b[0m\u001b[0;34m[\u001b[0m\u001b[0;36m0\u001b[0m\u001b[0;34m]\u001b[0m\u001b[0;34m\u001b[0m\u001b[0;34m\u001b[0m\u001b[0m\n\u001b[1;32m     45\u001b[0m \u001b[0;34m\u001b[0m\u001b[0m\n\u001b[0;32m---> 46\u001b[0;31m       \u001b[0mogr_list\u001b[0m\u001b[0;34m[\u001b[0m\u001b[0mogr_ad_soyad\u001b[0m\u001b[0;34m]\u001b[0m \u001b[0;34m=\u001b[0m \u001b[0;34m[\u001b[0m\u001b[0mogr_no\u001b[0m\u001b[0;34m,\u001b[0m \u001b[0mogr_ders\u001b[0m\u001b[0;34m,\u001b[0m \u001b[0mogr_ders_not\u001b[0m\u001b[0;34m,\u001b[0m \u001b[0mhrf_not\u001b[0m\u001b[0;34m,\u001b[0m \u001b[0mogr_durum\u001b[0m\u001b[0;34m]\u001b[0m\u001b[0;34m\u001b[0m\u001b[0;34m\u001b[0m\u001b[0m\n\u001b[0m\u001b[1;32m     47\u001b[0m \u001b[0;34m\u001b[0m\u001b[0m\n\u001b[1;32m     48\u001b[0m \u001b[0;32mdef\u001b[0m \u001b[0mdataframe\u001b[0m\u001b[0;34m(\u001b[0m\u001b[0mdata\u001b[0m\u001b[0;34m)\u001b[0m\u001b[0;34m:\u001b[0m\u001b[0;34m\u001b[0m\u001b[0;34m\u001b[0m\u001b[0m\n",
            "\u001b[0;31mUnboundLocalError\u001b[0m: local variable 'hrf_not' referenced before assignment"
          ]
        }
      ]
    },
    {
      "cell_type": "code",
      "source": [
        "ogr_list.items()"
      ],
      "metadata": {
        "colab": {
          "base_uri": "https://localhost:8080/"
        },
        "id": "lpJwSllP3wUZ",
        "outputId": "802d1b73-3776-4bcf-90fd-bde3848a2d0c"
      },
      "execution_count": null,
      "outputs": [
        {
          "output_type": "execute_result",
          "data": {
            "text/plain": [
              "dict_items([('Volkan CEBECI', [200208090, 'Matematik', 85, 'BA', 'GEÇTİ']), ('Selin KÖMÜR', [185659856, 'Fizik', 38, 'FF', 'KALDI']), ('Çağrı YILDIRIM', [124866536, 'Python', 56, 'DC', 'KOŞULLU']), ('Nesrin AĞGÜL', [215658359, 'Web Programlama', 23, 'FF', 'KALDI'])])"
            ]
          },
          "metadata": {},
          "execution_count": 215
        }
      ]
    },
    {
      "cell_type": "code",
      "source": [
        "dataframe(ogr_list)"
      ],
      "metadata": {
        "colab": {
          "base_uri": "https://localhost:8080/",
          "height": 383
        },
        "id": "cDq5VF61NBay",
        "outputId": "bf3c9b79-ce87-496d-a3ef-e5ada3f30378"
      },
      "execution_count": null,
      "outputs": [
        {
          "output_type": "stream",
          "name": "stdout",
          "text": [
            "<class 'pandas.core.frame.DataFrame'>\n",
            "Index: 4 entries, Volkan CEBECI to Nesrin AĞGÜL\n",
            "Data columns (total 5 columns):\n",
            " #   Column     Non-Null Count  Dtype \n",
            "---  ------     --------------  ----- \n",
            " 0   Okul No    4 non-null      int64 \n",
            " 1   Ders       4 non-null      object\n",
            " 2   Ders Notu  4 non-null      int64 \n",
            " 3   Harf Notu  4 non-null      object\n",
            " 4   Durum      4 non-null      object\n",
            "dtypes: int64(2), object(3)\n",
            "memory usage: 192.0+ bytes\n"
          ]
        },
        {
          "output_type": "execute_result",
          "data": {
            "text/plain": [
              "                  Okul No             Ders  Ders Notu Harf Notu    Durum\n",
              "Volkan CEBECI   200208090        Matematik         85        BA    GEÇTİ\n",
              "Selin KÖMÜR     185659856            Fizik         38        FF    KALDI\n",
              "Çağrı YILDIRIM  124866536           Python         56        DC  KOŞULLU\n",
              "Nesrin AĞGÜL    215658359  Web Programlama         23        FF    KALDI"
            ],
            "text/html": [
              "\n",
              "  <div id=\"df-389b199e-97f9-47aa-8ddf-36e46a57f05b\">\n",
              "    <div class=\"colab-df-container\">\n",
              "      <div>\n",
              "<style scoped>\n",
              "    .dataframe tbody tr th:only-of-type {\n",
              "        vertical-align: middle;\n",
              "    }\n",
              "\n",
              "    .dataframe tbody tr th {\n",
              "        vertical-align: top;\n",
              "    }\n",
              "\n",
              "    .dataframe thead th {\n",
              "        text-align: right;\n",
              "    }\n",
              "</style>\n",
              "<table border=\"1\" class=\"dataframe\">\n",
              "  <thead>\n",
              "    <tr style=\"text-align: right;\">\n",
              "      <th></th>\n",
              "      <th>Okul No</th>\n",
              "      <th>Ders</th>\n",
              "      <th>Ders Notu</th>\n",
              "      <th>Harf Notu</th>\n",
              "      <th>Durum</th>\n",
              "    </tr>\n",
              "  </thead>\n",
              "  <tbody>\n",
              "    <tr>\n",
              "      <th>Volkan CEBECI</th>\n",
              "      <td>200208090</td>\n",
              "      <td>Matematik</td>\n",
              "      <td>85</td>\n",
              "      <td>BA</td>\n",
              "      <td>GEÇTİ</td>\n",
              "    </tr>\n",
              "    <tr>\n",
              "      <th>Selin KÖMÜR</th>\n",
              "      <td>185659856</td>\n",
              "      <td>Fizik</td>\n",
              "      <td>38</td>\n",
              "      <td>FF</td>\n",
              "      <td>KALDI</td>\n",
              "    </tr>\n",
              "    <tr>\n",
              "      <th>Çağrı YILDIRIM</th>\n",
              "      <td>124866536</td>\n",
              "      <td>Python</td>\n",
              "      <td>56</td>\n",
              "      <td>DC</td>\n",
              "      <td>KOŞULLU</td>\n",
              "    </tr>\n",
              "    <tr>\n",
              "      <th>Nesrin AĞGÜL</th>\n",
              "      <td>215658359</td>\n",
              "      <td>Web Programlama</td>\n",
              "      <td>23</td>\n",
              "      <td>FF</td>\n",
              "      <td>KALDI</td>\n",
              "    </tr>\n",
              "  </tbody>\n",
              "</table>\n",
              "</div>\n",
              "      <button class=\"colab-df-convert\" onclick=\"convertToInteractive('df-389b199e-97f9-47aa-8ddf-36e46a57f05b')\"\n",
              "              title=\"Convert this dataframe to an interactive table.\"\n",
              "              style=\"display:none;\">\n",
              "        \n",
              "  <svg xmlns=\"http://www.w3.org/2000/svg\" height=\"24px\"viewBox=\"0 0 24 24\"\n",
              "       width=\"24px\">\n",
              "    <path d=\"M0 0h24v24H0V0z\" fill=\"none\"/>\n",
              "    <path d=\"M18.56 5.44l.94 2.06.94-2.06 2.06-.94-2.06-.94-.94-2.06-.94 2.06-2.06.94zm-11 1L8.5 8.5l.94-2.06 2.06-.94-2.06-.94L8.5 2.5l-.94 2.06-2.06.94zm10 10l.94 2.06.94-2.06 2.06-.94-2.06-.94-.94-2.06-.94 2.06-2.06.94z\"/><path d=\"M17.41 7.96l-1.37-1.37c-.4-.4-.92-.59-1.43-.59-.52 0-1.04.2-1.43.59L10.3 9.45l-7.72 7.72c-.78.78-.78 2.05 0 2.83L4 21.41c.39.39.9.59 1.41.59.51 0 1.02-.2 1.41-.59l7.78-7.78 2.81-2.81c.8-.78.8-2.07 0-2.86zM5.41 20L4 18.59l7.72-7.72 1.47 1.35L5.41 20z\"/>\n",
              "  </svg>\n",
              "      </button>\n",
              "      \n",
              "  <style>\n",
              "    .colab-df-container {\n",
              "      display:flex;\n",
              "      flex-wrap:wrap;\n",
              "      gap: 12px;\n",
              "    }\n",
              "\n",
              "    .colab-df-convert {\n",
              "      background-color: #E8F0FE;\n",
              "      border: none;\n",
              "      border-radius: 50%;\n",
              "      cursor: pointer;\n",
              "      display: none;\n",
              "      fill: #1967D2;\n",
              "      height: 32px;\n",
              "      padding: 0 0 0 0;\n",
              "      width: 32px;\n",
              "    }\n",
              "\n",
              "    .colab-df-convert:hover {\n",
              "      background-color: #E2EBFA;\n",
              "      box-shadow: 0px 1px 2px rgba(60, 64, 67, 0.3), 0px 1px 3px 1px rgba(60, 64, 67, 0.15);\n",
              "      fill: #174EA6;\n",
              "    }\n",
              "\n",
              "    [theme=dark] .colab-df-convert {\n",
              "      background-color: #3B4455;\n",
              "      fill: #D2E3FC;\n",
              "    }\n",
              "\n",
              "    [theme=dark] .colab-df-convert:hover {\n",
              "      background-color: #434B5C;\n",
              "      box-shadow: 0px 1px 3px 1px rgba(0, 0, 0, 0.15);\n",
              "      filter: drop-shadow(0px 1px 2px rgba(0, 0, 0, 0.3));\n",
              "      fill: #FFFFFF;\n",
              "    }\n",
              "  </style>\n",
              "\n",
              "      <script>\n",
              "        const buttonEl =\n",
              "          document.querySelector('#df-389b199e-97f9-47aa-8ddf-36e46a57f05b button.colab-df-convert');\n",
              "        buttonEl.style.display =\n",
              "          google.colab.kernel.accessAllowed ? 'block' : 'none';\n",
              "\n",
              "        async function convertToInteractive(key) {\n",
              "          const element = document.querySelector('#df-389b199e-97f9-47aa-8ddf-36e46a57f05b');\n",
              "          const dataTable =\n",
              "            await google.colab.kernel.invokeFunction('convertToInteractive',\n",
              "                                                     [key], {});\n",
              "          if (!dataTable) return;\n",
              "\n",
              "          const docLinkHtml = 'Like what you see? Visit the ' +\n",
              "            '<a target=\"_blank\" href=https://colab.research.google.com/notebooks/data_table.ipynb>data table notebook</a>'\n",
              "            + ' to learn more about interactive tables.';\n",
              "          element.innerHTML = '';\n",
              "          dataTable['output_type'] = 'display_data';\n",
              "          await google.colab.output.renderOutput(dataTable, element);\n",
              "          const docLink = document.createElement('div');\n",
              "          docLink.innerHTML = docLinkHtml;\n",
              "          element.appendChild(docLink);\n",
              "        }\n",
              "      </script>\n",
              "    </div>\n",
              "  </div>\n",
              "  "
            ]
          },
          "metadata": {},
          "execution_count": 216
        }
      ]
    },
    {
      "cell_type": "code",
      "source": [
        "excel(df_ogr_list)"
      ],
      "metadata": {
        "id": "mcIb-JIaOCYj"
      },
      "execution_count": null,
      "outputs": []
    },
    {
      "cell_type": "code",
      "source": [
        "print(df_ogr_list)"
      ],
      "metadata": {
        "colab": {
          "base_uri": "https://localhost:8080/"
        },
        "id": "lGGH3NRGUWCQ",
        "outputId": "4bd59775-2549-4fe5-a309-d2d8fc49a422"
      },
      "execution_count": null,
      "outputs": [
        {
          "output_type": "stream",
          "name": "stdout",
          "text": [
            "                  Okul No             Ders  Ders Notu Harf Notu    Durum\n",
            "Volkan CEBECI   200208090        Matematik         85        BA    GEÇTİ\n",
            "Selin KÖMÜR     185659856            Fizik         38        FF    KALDI\n",
            "Çağrı YILDIRIM  124866536           Python         56        DC  KOŞULLU\n",
            "Nesrin AĞGÜL    215658359  Web Programlama         23        FF    KALDI\n"
          ]
        }
      ]
    }
  ]
}