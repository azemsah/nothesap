{
  "nbformat": 4,
  "nbformat_minor": 0,
  "metadata": {
    "colab": {
      "name": "GlobalAIHub-PythonBootcamp-Project1.ipynb",
      "provenance": [],
      "collapsed_sections": [],
      "include_colab_link": true
    },
    "kernelspec": {
      "name": "python3",
      "display_name": "Python 3"
    },
    "language_info": {
      "name": "python"
    }
  },
  "cells": [
    {
      "cell_type": "markdown",
      "metadata": {
        "id": "view-in-github",
        "colab_type": "text"
      },
      "source": [
        "<a href=\"https://colab.research.google.com/github/azemsah/nothesap/blob/main/GlobalAIHub_PythonBootcamp_Project1_1.ipynb\" target=\"_parent\"><img src=\"https://colab.research.google.com/assets/colab-badge.svg\" alt=\"Open In Colab\"/></a>"
      ]
    },
    {
      "cell_type": "code",
      "execution_count": null,
      "metadata": {
        "id": "atCSQI-CeE8l"
      },
      "outputs": [],
      "source": [
        "import pandas as pd\n",
        "import numpy as np\n",
        "\n",
        "Stu_list = {}\n",
        "Lesson_status = [\"KALDI\", \"KOŞULLU\", \"GEÇTİ\"]\n",
        "Stu_lesson = {}\n",
        "letter_grade \n",
        "\n",
        "def Stu_info():\n",
        "    Stu_name = str(input(\"\\nPlease enter student name : \"))\n",
        "    Stu_surname = str(input(\"Please enter student surname: \"))\n",
        "\n",
        "    Stu_name_surname = f\"{Stu_name} \".capitalize() + f\"{Stu_surname}\".upper()\n",
        "\n",
        "    Stu_lesson = str(input(\"Please enter lesson name: \"))\n",
        "    Stu_ID_no = int(input(\"Please enter student ID number: \"))\n",
        "    Stu_point_grade = int(input(\"Lütfen öğrencinin sınav notunu giriniz: \"))\n",
        "  \n",
        "    if Stu_point_grade > 100 or Stu_point_grade < 0:\n",
        "      Stu_point_grade = int(input(\"Student grade must be between 0 and 100! Please enter the student's exam grade: \"))\n",
        "    \n",
        "    if Stu_point_grade >0 and Stu_point_grade<= 40:\n",
        "      letter_grade= (\"FF\")\n",
        "    if Stu_point_grade >41 and Stu_point_grade<=59:\n",
        "      letter_grade= (\"DC\")\n",
        "    if Stu_point_grade >60 and Stu_point_grade<=69:\n",
        "      letter_grade= (\"CC\")\n",
        "    if Stu_point_grade >70 and Stu_point_grade<=74:\n",
        "      letter_grade= (\"CB\")\n",
        "    if Stu_point_grade >75 and Stu_point_grade<=79:\n",
        "      letter_grade= (\"BB\")\n",
        "    if Stu_point_grade >80 and Stu_point_grade<=89:\n",
        "      letter_grade= (\"BA\")\n",
        "    if Stu_point_grade >90 and Stu_point_grade<=100:\n",
        "      letter_grade= (\"AA\")\n",
        "    else:\n",
        "      pass\n",
        "      \n",
        "      if Stu_point_grade >= 60:\n",
        "        Stu_status = Lesson_status[2]\n",
        "      elif Stu_point_grade > 41 and Stu_point_grade <= 59:\n",
        "        Stu_status = Lesson_status[1]\n",
        "      else:\n",
        "        Stu_status = Lesson_status[0]\n",
        "\n",
        "      Stu_list[Stu_name_surname] = [Stu_ID_no, Stu_lesson, Stu_point_grade, letter_grade, Stu_status]\n",
        "\n",
        "def dataframe(data): \n",
        "  global df_Stu_list\n",
        "  df_Stu_list = pd.DataFrame.from_dict(data, orient ='index')\n",
        "  df_Stu_list.columns = ['Okul No','Ders','Ders Notu','Harf Notu','Durum']\n",
        "  df_Stu_list.info()\n",
        "  return df_Stu_list\n",
        "\n",
        "def excel(data):\n",
        "  data.to_excel(\"StudentGradeList.xlsx\")"
      ]
    },
    {
      "cell_type": "code",
      "source": [
        "Stu_info()"
      ],
      "metadata": {
        "id": "fc5di6LCck5n",
        "colab": {
          "base_uri": "https://localhost:8080/",
          "height": 392
        },
        "outputId": "b1ad0557-2f79-4539-988c-61ef72582483"
      },
      "execution_count": null,
      "outputs": [
        {
          "name": "stdout",
          "output_type": "stream",
          "text": [
            "\n",
            "Please enter student name : AZM\n",
            "Please enter student surname: AZM\n",
            "Please enter lesson name: DERS\n",
            "Please enter student ID number: 123\n",
            "Lütfen öğrencinin sınav notunu giriniz: 60\n"
          ]
        },
        {
          "output_type": "error",
          "ename": "UnboundLocalError",
          "evalue": "ignored",
          "traceback": [
            "\u001b[0;31m---------------------------------------------------------------------------\u001b[0m",
            "\u001b[0;31mUnboundLocalError\u001b[0m                         Traceback (most recent call last)",
            "\u001b[0;32m<ipython-input-8-2f5ee11f7903>\u001b[0m in \u001b[0;36m<module>\u001b[0;34m()\u001b[0m\n\u001b[0;32m----> 1\u001b[0;31m \u001b[0mStu_info\u001b[0m\u001b[0;34m(\u001b[0m\u001b[0;34m)\u001b[0m\u001b[0;34m\u001b[0m\u001b[0;34m\u001b[0m\u001b[0m\n\u001b[0m",
            "\u001b[0;32m<ipython-input-7-493d3173c376>\u001b[0m in \u001b[0;36mStu_info\u001b[0;34m()\u001b[0m\n\u001b[1;32m     44\u001b[0m         \u001b[0mStu_status\u001b[0m \u001b[0;34m=\u001b[0m \u001b[0mLesson_status\u001b[0m\u001b[0;34m[\u001b[0m\u001b[0;36m0\u001b[0m\u001b[0;34m]\u001b[0m\u001b[0;34m\u001b[0m\u001b[0;34m\u001b[0m\u001b[0m\n\u001b[1;32m     45\u001b[0m \u001b[0;34m\u001b[0m\u001b[0m\n\u001b[0;32m---> 46\u001b[0;31m       \u001b[0mStu_list\u001b[0m\u001b[0;34m[\u001b[0m\u001b[0mStu_name_surname\u001b[0m\u001b[0;34m]\u001b[0m \u001b[0;34m=\u001b[0m \u001b[0;34m[\u001b[0m\u001b[0mStu_ID_no\u001b[0m\u001b[0;34m,\u001b[0m \u001b[0mStu_lesson\u001b[0m\u001b[0;34m,\u001b[0m \u001b[0mStu_point_grade\u001b[0m\u001b[0;34m,\u001b[0m \u001b[0mletter_grade\u001b[0m\u001b[0;34m,\u001b[0m \u001b[0mStu_status\u001b[0m\u001b[0;34m]\u001b[0m\u001b[0;34m\u001b[0m\u001b[0;34m\u001b[0m\u001b[0m\n\u001b[0m\u001b[1;32m     47\u001b[0m \u001b[0;34m\u001b[0m\u001b[0m\n\u001b[1;32m     48\u001b[0m \u001b[0;32mdef\u001b[0m \u001b[0mdataframe\u001b[0m\u001b[0;34m(\u001b[0m\u001b[0mdata\u001b[0m\u001b[0;34m)\u001b[0m\u001b[0;34m:\u001b[0m\u001b[0;34m\u001b[0m\u001b[0;34m\u001b[0m\u001b[0m\n",
            "\u001b[0;31mUnboundLocalError\u001b[0m: local variable 'letter_grade' referenced before assignment"
          ]
        }
      ]
    },
    {
      "cell_type": "code",
      "source": [
        "Stu_list.items()"
      ],
      "metadata": {
        "id": "lpJwSllP3wUZ"
      },
      "execution_count": null,
      "outputs": []
    },
    {
      "cell_type": "code",
      "source": [
        "dataframe(Stu_list)"
      ],
      "metadata": {
        "id": "cDq5VF61NBay"
      },
      "execution_count": null,
      "outputs": []
    },
    {
      "cell_type": "code",
      "source": [
        "excel(df_Stu_list)"
      ],
      "metadata": {
        "id": "mcIb-JIaOCYj"
      },
      "execution_count": null,
      "outputs": []
    },
    {
      "cell_type": "code",
      "source": [
        "print(df_Stu_list)"
      ],
      "metadata": {
        "id": "lGGH3NRGUWCQ"
      },
      "execution_count": null,
      "outputs": []
    }
  ]
}