{
  "nbformat": 4,
  "nbformat_minor": 0,
  "metadata": {
    "colab": {
      "name": "NOT HESAPLAMA.ipynb",
      "provenance": [],
      "collapsed_sections": [],
      "authorship_tag": "ABX9TyPQgvRTHf5dgBQyq/bh2S82",
      "include_colab_link": true
    },
    "kernelspec": {
      "name": "python3",
      "display_name": "Python 3"
    },
    "language_info": {
      "name": "python"
    }
  },
  "cells": [
    {
      "cell_type": "markdown",
      "metadata": {
        "id": "view-in-github",
        "colab_type": "text"
      },
      "source": [
        "<a href=\"https://colab.research.google.com/github/azemsah/nothesap/blob/main/NOT_HESAPLAMA.ipynb\" target=\"_parent\"><img src=\"https://colab.research.google.com/assets/colab-badge.svg\" alt=\"Open In Colab\"/></a>"
      ]
    },
    {
      "cell_type": "code",
      "execution_count": null,
      "metadata": {
        "colab": {
          "base_uri": "https://localhost:8080/"
        },
        "id": "rCdGUU4c6p1o",
        "outputId": "cdf4e091-7f64-4374-9e87-0f824da84777"
      },
      "outputs": [
        {
          "output_type": "stream",
          "name": "stdout",
          "text": [
            "Öğrenci Adı : azem\n",
            "Öğrenci Soyadı : arslan\n",
            "Öğrenci No : 100\n",
            "Ders : mat\n",
            "Not 1 : 100\n",
            "Not 2 : 90\n",
            "öğrenic adı azem arslan öğrenci no 100 ders mat [Vize Notu: 100] [Final Notu: 90] [Ortalaması: int94] [Harf Notu: AA] [GEÇTİ]\n"
          ]
        }
      ],
      "source": [
        "#ÖĞRENCİ BİLGİLERİ ALINIYOR\n",
        "ad = input(\"Öğrenci Adı : \")\n",
        "soyad = input(\"Öğrenci Soyadı : \")\n",
        "no = input(\"Öğrenci No : \")\n",
        "ders = input(\"Ders : \")\n",
        "vize = int(input(\"Not 1 : \"))\n",
        "final = int(input(\"Not 2 : \"))\n",
        "   \n",
        "        \n",
        "\n",
        "#FONKSİYON\n",
        "def notlar(vize,final):\n",
        "    vizeNotu=vize\n",
        "    finalNotu=final\n",
        "# ORTALAMA HESAPLANIYOR Vizenin % 40 finalin %60 olarak hesaplıyoruz.    \n",
        "    ortalamaNot=int((0.4*vizeNotu)+(0.6*finalNotu)) \n",
        "\n",
        "    if(ortalamaNot>=88):\n",
        "        print(\"Öğrenic Adı :\",ad,soyad,\"Öğrenci No :\", no,\"Ders :\", ders, \"[Vize Notu: {}] [Final Notu: {}] [Ortalaması: int{}] [Harf Notu: AA] [GEÇTİ]\".format(vizeNotu,finalNotu,ortalamaNot))\n",
        "    elif ortalamaNot>=82 and ortalamaNot<88 :\n",
        "        print(\"Öğrenic Adı :\",ad,soyad,\"Öğrenci No :\", no,\"Ders :\", ders,\"[Vize Notu: {}] [Final Notu: {}] [Ortalaması: {}] [Harf Notu: BA] [GEÇTİ]\".format(vizeNotu,finalNotu,ortalamaNot))\n",
        "    elif ortalamaNot >= 76 and ortalamaNot < 82:\n",
        "        print(\"Öğrenic Adı :\",ad,soyad,\"Öğrenci No :\", no,\"Ders :\", ders,\"[Vize Notu: {}] [Final Notu: {}] [Ortalaması: {}] [Harf Notu: BB] [GEÇTİ]\".format(vizeNotu,finalNotu,ortalamaNot))\n",
        "    elif ortalamaNot >= 66 and ortalamaNot < 76:\n",
        "        print(\"Öğrenic Adı :\",ad,soyad,\"Öğrenci No :\", no,\"Ders :\", ders,\"[Vize Notu: {}] [Final Notu: {}] [Ortalaması: {}] [Harf Notu: CB] [GEÇTİ]\".format(vizeNotu,finalNotu,ortalamaNot))\n",
        "    elif ortalamaNot >= 60 and ortalamaNot < 66:\n",
        "        print(\"Öğrenic Adı :\",ad,soyad,\"Öğrenci No :\", no,\"Ders :\", ders,\"[Vize Notu: {}] [Final Notu: {}] [Ortalaması: {}] [Harf Notu: CC] [GEÇTİ]\".format(vizeNotu,finalNotu,ortalamaNot))\n",
        "    elif ortalamaNot >= 55 and ortalamaNot < 60:\n",
        "        print(\"Öğrenic Adı :\",ad,soyad,\"Öğrenci No :\", no,\"Ders :\", ders,\"[Vize Notu: {}] [Final Notu: {}] [Ortalaması: {}] [Harf Notu: DC] [KOŞULLU GEÇTİ]\".format(vizeNotu,finalNotu,ortalamaNot))\n",
        "    elif ortalamaNot >= 45 and ortalamaNot < 55:\n",
        "        print(\"Öğrenic Adı :\",ad,soyad,\"Öğrenci No :\", no,\"Ders :\", ders,\"[Vize Notu: {}] [Final Notu: {}] [Ortalaması: {}] [Harf Notu: DD] [KOŞULLU GEÇTİ]\".format(vizeNotu,finalNotu,ortalamaNot))\n",
        "    else:\n",
        "        print(\"Öğrenci Adı :\",ad,soyad,\"Öğrenci No :\", no,\"Ders :\", ders,\"[Vize Notu: {}] [Final Notu: {}] [Ortalaması: {}] [Harf Notu: FF] [KALDI]\".format(vizeNotu,finalNotu,ortalamaNot))\n",
        "\n",
        "\n",
        "notlar(vize,final)\n",
        "\n",
        "\n",
        "\n",
        "\n"
      ]
    }
  ]
}